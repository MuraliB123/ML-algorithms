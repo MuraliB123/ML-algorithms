{
 "cells": [
  {
   "cell_type": "code",
   "execution_count": 3,
   "metadata": {},
   "outputs": [],
   "source": [
    "import numpy as np\n",
    "class Logistic_Regression():\n",
    "    def __init__(self,learning_rate,no_iterations):\n",
    "        self.learning_rate = learning_rate \n",
    "        self.no_iterations = no_iterations\n",
    "    def fit(self,X,Y):\n",
    "        self.m,self.n = X.shape \n",
    "        self.w = np.zeros(self.n) #[0 0 0 .. n]\n",
    "        self.b = 0 \n",
    "        self.X = X \n",
    "        self.Y = Y \n",
    "        for i in range(self.no_iterations):\n",
    "            self.update_weights()\n",
    "    def update_weights(self):\n",
    "        Y_hat = 1/(1+np.exp(-(self.X.dot(self.w) + self.b)))\n",
    "        dw    = (1/self.m)*np.dot(self.X.T,(Y_hat-self.Y))\n",
    "        db    = (1/self.m)*np.sum(Y_hat - self.Y)\n",
    "        self.w = self.w - self.learning_rate*dw\n",
    "        self.b = self.b - self.learning_rate*db\n",
    "    def predict(self,X):\n",
    "        y_pred = 1/(1+np.exp(-(X.dot(self.w) + self.b)))\n",
    "        y_pred = np.where(y_pred > 0.5,1,0)\n",
    "        return y_pred\n",
    "#classifier = Logistic_Regression(learning_rate = 0.01,no_iterations=10000)\n",
    "#classifier.fit(X_train,Y_train)"
   ]
  },
  {
   "cell_type": "code",
   "execution_count": null,
   "metadata": {},
   "outputs": [],
   "source": [
    "\n"
   ]
  }
 ],
 "metadata": {
  "kernelspec": {
   "display_name": "Python 3",
   "language": "python",
   "name": "python3"
  },
  "language_info": {
   "codemirror_mode": {
    "name": "ipython",
    "version": 3
   },
   "file_extension": ".py",
   "mimetype": "text/x-python",
   "name": "python",
   "nbconvert_exporter": "python",
   "pygments_lexer": "ipython3",
   "version": "3.8.10"
  },
  "orig_nbformat": 4
 },
 "nbformat": 4,
 "nbformat_minor": 2
}
