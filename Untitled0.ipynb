{
  "nbformat": 4,
  "nbformat_minor": 0,
  "metadata": {
    "colab": {
      "provenance": [],
      "authorship_tag": "ABX9TyOYuVWITMOY9mV22qZ4Ksgr",
      "include_colab_link": true
    },
    "kernelspec": {
      "name": "python3",
      "display_name": "Python 3"
    },
    "language_info": {
      "name": "python"
    }
  },
  "cells": [
    {
      "cell_type": "markdown",
      "metadata": {
        "id": "view-in-github",
        "colab_type": "text"
      },
      "source": [
        "<a href=\"https://colab.research.google.com/github/MuraliB123/ML-algorithms/blob/main/Untitled0.ipynb\" target=\"_parent\"><img src=\"https://colab.research.google.com/assets/colab-badge.svg\" alt=\"Open In Colab\"/></a>"
      ]
    },
    {
      "cell_type": "code",
      "execution_count": 30,
      "metadata": {
        "colab": {
          "base_uri": "https://localhost:8080/"
        },
        "id": "spzxgilZRwCb",
        "outputId": "becb60b0-c04e-4ba1-f2d9-8c770ba325dd"
      },
      "outputs": [
        {
          "output_type": "stream",
          "name": "stdout",
          "text": [
            "Age std: [0.         0.33333333 0.18181818 0.87878788 0.09090909 0.51515152\n",
            " 0.96969697 1.         0.84848485]\n",
            "Income std [0.88024813 0.01191226 0.19369897 0.         0.92469322 0.39953312\n",
            " 0.19090055 1.         0.90275882]\n",
            "First 9 neighbor distances:\n",
            "(36119.39848662488, 7)\n",
            "(36119.47544070703, 4)\n",
            "(36119.49600063277, 8)\n",
            "(36119.520051728214, 0)\n",
            "(36119.99982829707, 5)\n",
            "(36120.206267975, 2)\n",
            "(36120.207639313034, 6)\n",
            "(36120.38777860667, 1)\n",
            "(36120.398703334766, 3)\n",
            "Predicted class: Bad loss\n",
            "Age std: [-1. -1. -1. -1. -1. -1. -1. -1. -1.]\n",
            "Income std [1. 1. 1. 1. 1. 1. 1. 1. 1.]\n",
            "First 9 neighbor distances:\n",
            "(36186.34, 0)\n",
            "(36186.34, 1)\n",
            "(36186.34, 2)\n",
            "(36186.34, 3)\n",
            "(36186.34, 4)\n",
            "(36186.34, 5)\n",
            "(36186.34, 6)\n",
            "(36186.34, 7)\n",
            "(36186.34, 8)\n",
            "Predicted class: Bad loss\n"
          ]
        }
      ],
      "source": [
        "\n",
        "from sklearn.preprocessing import MinMaxScaler\n",
        "import numpy as np\n",
        "import pandas as pd\n",
        "import scipy.stats as stats\n",
        "\n",
        "data = pd.read_csv('/content/Data.csv')\n",
        "data = data.drop([\"Record\"], axis=1)\n",
        "data = data.drop([\"Marital\"],axis=1)\n",
        "Y = data[\"Risk\"]\n",
        "data = data.drop([\"Risk\"],axis=1)\n",
        "\n",
        "scaler = MinMaxScaler()\n",
        "scaler.fit(data)\n",
        "data_std1 = scaler.transform(data)\n",
        "data = np.array(data)\n",
        "data_1=stats.zscore(data, axis=1)\n",
        "\n",
        "print(\"Age std:\", data_std1[:, 0])\n",
        "print(\"Income std\",data_std1[:,1])\n",
        "\n",
        "test_10 = [66,36120.34]\n",
        "k = 9\n",
        "distances = []\n",
        "for i in range(len(data_std1)):\n",
        "    distance = np.sqrt(np.sum((test_10 - data_std1[i])**2))\n",
        "    distances.append((distance, i))\n",
        "distances.sort()\n",
        "print(\"First 9 neighbor distances:\")\n",
        "for i in range(9):\n",
        "    print(distances[i])\n",
        "nearest_neighbors = [d[1] for d in distances[:9]]\n",
        "neighbor_classes = Y[nearest_neighbors]\n",
        "predicted_class = neighbor_classes.mode()[0]\n",
        "print(\"Predicted class:\", predicted_class)\n",
        "###################z_score##########################\n",
        "print(\"Age std:\", data_1[:, 0])\n",
        "print(\"Income std\",data_1[:,1])\n",
        "\n",
        "test_10 = [66,36120.34]\n",
        "k = 9\n",
        "distances = []\n",
        "for i in range(len(data_1)):\n",
        "    distance = np.sum(np.abs(test_10 - data_1[i]))\n",
        "    distances.append((distance, i))\n",
        "distances.sort()\n",
        "print(\"First 9 neighbor distances:\")\n",
        "for i in range(9):\n",
        "    print(distances[i])\n",
        "nearest_neighbors = [d[1] for d in distances[:9]]\n",
        "neighbor_classes = Y[nearest_neighbors]\n",
        "predicted_class = neighbor_classes.mode()[0]\n",
        "print(\"Predicted class:\", predicted_class)\n",
        "\n"
      ]
    }
  ]
}